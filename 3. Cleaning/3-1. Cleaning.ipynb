{
 "cells": [
  {
   "attachments": {},
   "cell_type": "markdown",
   "metadata": {},
   "source": [
    "# 3-1. Cleaning\n",
    "> Garbage In, Garbage Out\n",
    "\n",
    "- 클리닝, 필터링 -> 특징 선택 (피처 엔지니어링)  \n",
    "- [Amazing Feature Engineering](https://github.com/ashishpatel26/Amazing-Feature-Engineering)\n",
    "- 결측값, 오염된 값으로 인해 잘못된 인사이트를 도출할 수 있음\n",
    "\n",
    "## 결측치"
   ]
  }
 ],
 "metadata": {
  "language_info": {
   "name": "python"
  },
  "orig_nbformat": 4
 },
 "nbformat": 4,
 "nbformat_minor": 2
}
